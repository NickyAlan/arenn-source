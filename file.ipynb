{
 "cells": [
  {
   "cell_type": "code",
   "execution_count": null,
   "metadata": {},
   "outputs": [],
   "source": [
    "import cv2\n",
    "import numpy as np\n",
    "import time"
   ]
  },
  {
   "cell_type": "code",
   "execution_count": null,
   "metadata": {},
   "outputs": [],
   "source": [
    "VIDEO_PATH = \"video.mp4\"\n",
    "FOLDER_PATH = \"play\"\n",
    "ROWS, COLS = 4, 7"
   ]
  },
  {
   "cell_type": "code",
   "execution_count": null,
   "metadata": {},
   "outputs": [],
   "source": [
    "cap = cv2.VideoCapture(VIDEO_PATH)\n",
    "frame_list = []\n",
    "\n",
    "i = 0\n",
    "while True :\n",
    "    is_frame, frame = cap.read()\n",
    "    if not is_frame :\n",
    "        break\n",
    "    if i%2 == 0 :\n",
    "        frame_list.append(np.array(frame))\n",
    "    i += 1"
   ]
  },
  {
   "cell_type": "code",
   "execution_count": null,
   "metadata": {},
   "outputs": [],
   "source": [
    "H, W, C = frame_list[0].shape\n",
    "SH, SW = int(H/ROWS), int(W/COLS)\n",
    "SH, SW"
   ]
  },
  {
   "cell_type": "code",
   "execution_count": null,
   "metadata": {},
   "outputs": [],
   "source": [
    "time.sleep(4)\n",
    "for frame_idx in range(len(frame_list)) :\n",
    "    idx = 0\n",
    "    for row in range(ROWS) :\n",
    "        startr_idx, endr_idx = row*SH, (row+1)*SH\n",
    "        for col in range(COLS) :\n",
    "            startc_idx, endc_idx = col*SW, (col+1)*SW\n",
    "            print(startr_idx, endr_idx, startc_idx, endc_idx)\n",
    "            small_image = frame_list[frame_idx][startr_idx: endr_idx, startc_idx: endc_idx]\n",
    "            cv2.imwrite(f\"{FOLDER_PATH}/{idx}.jpg\", small_image)\n",
    "            idx += 1\n",
    "    \n",
    "    time.sleep(1.5)"
   ]
  }
 ],
 "metadata": {
  "kernelspec": {
   "display_name": "Python 3",
   "language": "python",
   "name": "python3"
  },
  "language_info": {
   "codemirror_mode": {
    "name": "ipython",
    "version": 3
   },
   "file_extension": ".py",
   "mimetype": "text/x-python",
   "name": "python",
   "nbconvert_exporter": "python",
   "pygments_lexer": "ipython3",
   "version": "3.11.5"
  }
 },
 "nbformat": 4,
 "nbformat_minor": 2
}
